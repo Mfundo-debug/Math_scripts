{
 "cells": [
  {
   "cell_type": "code",
   "execution_count": 1,
   "metadata": {},
   "outputs": [],
   "source": [
    "from math import *\n"
   ]
  },
  {
   "cell_type": "code",
   "execution_count": 7,
   "metadata": {},
   "outputs": [
    {
     "data": {
      "text/plain": [
       "10.181625856572422"
      ]
     },
     "execution_count": 7,
     "metadata": {},
     "output_type": "execute_result"
    }
   ],
   "source": [
    "x = 3.2\n",
    "e = 'x**2 + sin(x)'\n",
    "v = eval(e)\n",
    "v"
   ]
  },
  {
   "cell_type": "code",
   "execution_count": 9,
   "metadata": {},
   "outputs": [
    {
     "data": {
      "text/plain": [
       "['Words', ', ', 'words', ', ', 'words', '.', '']"
      ]
     },
     "execution_count": 9,
     "metadata": {},
     "output_type": "execute_result"
    }
   ],
   "source": [
    "import re\n",
    "re.split(r'(\\W+)', 'Words, words, words.')\n"
   ]
  },
  {
   "cell_type": "code",
   "execution_count": 10,
   "metadata": {},
   "outputs": [],
   "source": [
    "# write function for regular expression and split string, and allows the user prompt and return the list\n",
    "def split_string(source, splitlist):\n",
    "    output = []\n",
    "    atsplit = True  # At a split point\n",
    "    for char in source:  # iterate through string by character\n",
    "        if char in splitlist:\n",
    "            atsplit = True\n",
    "        else:\n",
    "            if atsplit:\n",
    "                output.append(char)\n",
    "                atsplit = False\n",
    "            else:\n",
    "                # add character to last word\n",
    "                output[-1] = output[-1] + char\n",
    "    return output\n",
    "    "
   ]
  },
  {
   "cell_type": "code",
   "execution_count": 11,
   "metadata": {},
   "outputs": [
    {
     "data": {
      "text/plain": [
       "['This', 'is', 'a', 'test', 'of', 'the', 'string', 'separation', 'code']"
      ]
     },
     "execution_count": 11,
     "metadata": {},
     "output_type": "execute_result"
    }
   ],
   "source": [
    "out = split_string(\"This is a test-of the,string separation-code!\", \" ,!-\")\n",
    "out"
   ]
  },
  {
   "cell_type": "code",
   "execution_count": 12,
   "metadata": {},
   "outputs": [],
   "source": [
    "#writing a function to remove all the vowels from a string\n",
    "def remove_vowels(s):\n",
    "    vowels = 'aeiouAEIOU'\n",
    "    s_without_vowels = ''\n",
    "    for letter in s:\n",
    "        if letter not in vowels:\n",
    "            s_without_vowels += letter\n",
    "    return s_without_vowels\n",
    "    "
   ]
  },
  {
   "cell_type": "code",
   "execution_count": 13,
   "metadata": {},
   "outputs": [
    {
     "data": {
      "text/plain": [
       "'cmpsc'"
      ]
     },
     "execution_count": 13,
     "metadata": {},
     "output_type": "execute_result"
    }
   ],
   "source": [
    "vowel = remove_vowels('compsci')\n",
    "vowel"
   ]
  },
  {
   "cell_type": "code",
   "execution_count": 14,
   "metadata": {},
   "outputs": [],
   "source": [
    "# write a function to compute the area of a triangle given its three sides a, b, and c\n",
    "def triangle_area(a, b, c):\n",
    "    s = (a + b + c) / 2\n",
    "    return sqrt(s * (s - a) * (s - b) * (s - c))\n",
    "    "
   ]
  },
  {
   "cell_type": "code",
   "execution_count": 15,
   "metadata": {},
   "outputs": [
    {
     "data": {
      "text/plain": [
       "6.0"
      ]
     },
     "execution_count": 15,
     "metadata": {},
     "output_type": "execute_result"
    }
   ],
   "source": [
    "awe = triangle_area(3, 4, 5)\n",
    "awe"
   ]
  },
  {
   "cell_type": "code",
   "execution_count": 16,
   "metadata": {},
   "outputs": [],
   "source": [
    "#write a function that checks the occurence of 7 in a random matrix list \n",
    "def check_7(matrix):\n",
    "    for row in matrix:\n",
    "        if 7 in row:\n",
    "            return True\n",
    "    return False\n",
    "    "
   ]
  },
  {
   "cell_type": "code",
   "execution_count": 17,
   "metadata": {},
   "outputs": [
    {
     "data": {
      "text/plain": [
       "True"
      ]
     },
     "execution_count": 17,
     "metadata": {},
     "output_type": "execute_result"
    }
   ],
   "source": [
    "check_7([[5, 2, 3], [4, 5, 6], [7, 8, 9]])\n"
   ]
  }
 ],
 "metadata": {
  "kernelspec": {
   "display_name": "pymc_env",
   "language": "python",
   "name": "pymc_env"
  },
  "orig_nbformat": 4
 },
 "nbformat": 4,
 "nbformat_minor": 2
}

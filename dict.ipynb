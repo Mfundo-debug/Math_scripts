{
 "cells": [
  {
   "attachments": {},
   "cell_type": "markdown",
   "metadata": {},
   "source": [
    "::: callout-tip\n",
    "## Create a dict with student names and age"
   ]
  },
  {
   "cell_type": "code",
   "execution_count": 1,
   "metadata": {},
   "outputs": [
    {
     "name": "stdout",
     "output_type": "stream",
     "text": [
      "{'Alice': 25, 'Bob': 27, 'Fred': 25, 'Georgie': 24, 'Harry': 32}\n"
     ]
    }
   ],
   "source": [
    "students = {\n",
    "    \"Alice\": 25,\n",
    "    \"Bob\": 27,\n",
    "    \"Claire\": 17,\n",
    "    \"Dan\": 21,\n",
    "    \"Emma\": 22,\n",
    "    \"Fred\": 25,\n",
    "    \"Georgie\": 24,\n",
    "    \"Harry\": 32\n",
    "}\n",
    "age_ge_23 ={k:v for (k,v) in students.items() if v>23}\n",
    "print(age_ge_23)"
   ]
  },
  {
   "cell_type": "code",
   "execution_count": 2,
   "metadata": {},
   "outputs": [
    {
     "name": "stdout",
     "output_type": "stream",
     "text": [
      "{'Claire': 17, 'Dan': 21, 'Emma': 22}\n"
     ]
    }
   ],
   "source": [
    "age_le_23 ={k:v for (k,v) in students.items() if v<=23}\n",
    "print(age_le_23)"
   ]
  },
  {
   "cell_type": "code",
   "execution_count": 4,
   "metadata": {},
   "outputs": [
    {
     "name": "stdout",
     "output_type": "stream",
     "text": [
      "26\n"
     ]
    }
   ],
   "source": [
    "class_students ={\n",
    "    \"Alice\": {\"id\": \"ID0001\", \"age\": 26, \"grade\": \"A\"},\n",
    "    \"Bob\": {\"id\": \"ID0002\", \"age\": 27, \"grade\": \"B\"},\n",
    "    \"Claire\": {\"id\": \"ID0003\", \"age\": 17, \"grade\": \"C\"},\n",
    "    \"Dan\": {\"id\": \"ID0004\", \"age\": 21, \"grade\": \"D\"},\n",
    "    \"Emma\": {\"id\": \"ID0005\", \"age\": 22, \"grade\": \"E\"},\n",
    "    \"Mfundo\": {\"id\": \"ID0006\", \"age\": 26, \"grade\": \"A\"}\n",
    "}\n",
    "print(class_students[\"Mfundo\"][\"age\"])"
   ]
  },
  {
   "cell_type": "code",
   "execution_count": 5,
   "metadata": {},
   "outputs": [
    {
     "name": "stdout",
     "output_type": "stream",
     "text": [
      "23.166666666666668\n"
     ]
    }
   ],
   "source": [
    "#find the average age of the students\n",
    "age_sum = 0\n",
    "for student in class_students:\n",
    "    age_sum += class_students[student][\"age\"]\n",
    "print(age_sum/len(class_students))"
   ]
  },
  {
   "cell_type": "code",
   "execution_count": 8,
   "metadata": {},
   "outputs": [
    {
     "name": "stdout",
     "output_type": "stream",
     "text": [
      "5\n"
     ]
    }
   ],
   "source": [
    "# find the number of the students who passsed condition is grade A,B,C,D is pass and E is fail\n",
    "condition = [\"A\",\"B\",\"C\",\"D\"]\n",
    "passed = 0\n",
    "for student in class_students:\n",
    "    if class_students[student][\"grade\"] in condition:\n",
    "        passed += 1\n",
    "print(passed)\n"
   ]
  },
  {
   "cell_type": "code",
   "execution_count": 9,
   "metadata": {},
   "outputs": [
    {
     "data": {
      "text/plain": [
       "{'Alice': {'id': 'ID0001', 'age': 26, 'grade': 'A'},\n",
       " 'Mfundo': {'id': 'ID0006', 'age': 26, 'grade': 'A'}}"
      ]
     },
     "execution_count": 9,
     "metadata": {},
     "output_type": "execute_result"
    }
   ],
   "source": [
    "grade_A = {k:v for (k,v) in class_students.items() if v[\"grade\"] == \"A\"}\n",
    "grade_A"
   ]
  },
  {
   "cell_type": "code",
   "execution_count": 10,
   "metadata": {},
   "outputs": [
    {
     "data": {
      "text/plain": [
       "{'Bob': {'id': 'ID0002', 'age': 27, 'grade': 'B'}}"
      ]
     },
     "execution_count": 10,
     "metadata": {},
     "output_type": "execute_result"
    }
   ],
   "source": [
    "grade_B = {k:v for (k,v) in class_students.items() if v[\"grade\"] == \"B\"}\n",
    "grade_B"
   ]
  },
  {
   "cell_type": "code",
   "execution_count": 11,
   "metadata": {},
   "outputs": [
    {
     "data": {
      "text/plain": [
       "{'Claire': {'id': 'ID0003', 'age': 17, 'grade': 'C'}}"
      ]
     },
     "execution_count": 11,
     "metadata": {},
     "output_type": "execute_result"
    }
   ],
   "source": [
    "grade_C = {k:v for (k,v) in class_students.items() if v[\"grade\"] == \"C\"}\n",
    "grade_C"
   ]
  },
  {
   "cell_type": "code",
   "execution_count": 12,
   "metadata": {},
   "outputs": [
    {
     "data": {
      "text/plain": [
       "{'Dan': {'id': 'ID0004', 'age': 21, 'grade': 'D'}}"
      ]
     },
     "execution_count": 12,
     "metadata": {},
     "output_type": "execute_result"
    }
   ],
   "source": [
    "grade_C = {k:v for (k,v) in class_students.items() if v[\"grade\"] == \"D\"}\n",
    "grade_C"
   ]
  },
  {
   "cell_type": "code",
   "execution_count": 13,
   "metadata": {},
   "outputs": [
    {
     "data": {
      "text/plain": [
       "{'Emma': {'id': 'ID0005', 'age': 22, 'grade': 'E'}}"
      ]
     },
     "execution_count": 13,
     "metadata": {},
     "output_type": "execute_result"
    }
   ],
   "source": [
    "grade_D = {k:v for (k,v) in class_students.items() if v[\"grade\"] == \"E\"}\n",
    "grade_D"
   ]
  },
  {
   "cell_type": "code",
   "execution_count": 14,
   "metadata": {},
   "outputs": [
    {
     "data": {
      "text/plain": [
       "{'Emma': {'id': 'ID0005', 'age': 22, 'grade': 'E'}}"
      ]
     },
     "execution_count": 14,
     "metadata": {},
     "output_type": "execute_result"
    }
   ],
   "source": [
    "grade_E = {k:v for (k,v) in class_students.items() if v[\"grade\"] == \"E\"}\n",
    "grade_E"
   ]
  },
  {
   "cell_type": "code",
   "execution_count": 15,
   "metadata": {},
   "outputs": [
    {
     "name": "stdout",
     "output_type": "stream",
     "text": [
      "1 Alice\n",
      "2 Mfundo\n",
      "3 Bob\n",
      "4 Claire\n",
      "5 Dan\n",
      "6 Emma\n"
     ]
    }
   ],
   "source": [
    "# Rank the students according to their grades\n",
    "rank = 1\n",
    "for student in class_students:\n",
    "    if class_students[student][\"grade\"] == \"A\":\n",
    "        print(rank,student)\n",
    "        rank += 1\n",
    "for student in class_students:\n",
    "    if class_students[student][\"grade\"] == \"B\":\n",
    "        print(rank,student)\n",
    "        rank += 1\n",
    "for student in class_students:\n",
    "    if class_students[student][\"grade\"] == \"C\":\n",
    "        print(rank,student)\n",
    "        rank += 1\n",
    "for student in class_students:\n",
    "    if class_students[student][\"grade\"] == \"D\":\n",
    "        print(rank,student)\n",
    "        rank += 1\n",
    "for student in class_students:\n",
    "    if class_students[student][\"grade\"] == \"E\":\n",
    "        print(rank,student)\n",
    "        rank += 1\n"
   ]
  }
 ],
 "metadata": {
  "kernelspec": {
   "display_name": "pymc_env",
   "language": "python",
   "name": "pymc_env"
  },
  "language_info": {
   "codemirror_mode": {
    "name": "ipython",
    "version": 3
   },
   "file_extension": ".py",
   "mimetype": "text/x-python",
   "name": "python",
   "nbconvert_exporter": "python",
   "pygments_lexer": "ipython3",
   "version": "3.11.3"
  },
  "orig_nbformat": 4
 },
 "nbformat": 4,
 "nbformat_minor": 2
}

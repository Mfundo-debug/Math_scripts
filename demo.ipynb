{
 "cells": [
  {
   "cell_type": "code",
   "execution_count": 1,
   "id": "084a9959-cd0c-47f9-9e01-868b69e88f6d",
   "metadata": {},
   "outputs": [],
   "source": [
    "import numpy as np"
   ]
  },
  {
   "cell_type": "markdown",
   "id": "0a85fb12-35d9-48da-a9b3-162650134005",
   "metadata": {},
   "source": [
    "### Problem 1: Implementation of gradient descent to optimize the kicking behaviour parameters"
   ]
  },
  {
   "cell_type": "code",
   "execution_count": 2,
   "id": "9238e02a-8fe1-4de5-94dd-e73a53ab7f60",
   "metadata": {},
   "outputs": [],
   "source": [
    "def kick_behav(params):\n",
    "    \"\"\"\n",
    "    function represents kicking behaviour policy\n",
    "    params array of shape\n",
    "    representing the values of the policy\n",
    "    returns distance representing the distance traveled by the kick\n",
    "    \"\"\"\n",
    "    dist = params[0]* np.sin(params[1]) + params[2]\n",
    "    \n",
    "    return dist"
   ]
  },
  {
   "cell_type": "code",
   "execution_count": 4,
   "id": "6d5cdf24-72b4-4702-aacd-fef37790f164",
   "metadata": {},
   "outputs": [],
   "source": [
    "def grad_desc(params,lr=.01, iters=1000):\n",
    "    \n",
    "    \"\"\"\n",
    "    in this functuon we want to perform gradient descent on kicking behavior\n",
    "    params already explained on top\n",
    "    iters represents number of interations\n",
    "    and we want to return optimized params which represents the optimized values of policy params\n",
    "    \"\"\"\n",
    "    #here you initialize your params\n",
    "    optimized_params = params.copy()\n",
    "    #perform the GD\n",
    "    for i in range(iters):\n",
    "        grad = np.array([np.cos(optimized_params[1]), - optimized_params[0] * np.sin(optimized_params[1]),1])\n",
    "        \n",
    "        #update\n",
    "    optimized_params -= lr * grad\n",
    "    return optimized_params"
   ]
  },
  {
   "cell_type": "code",
   "execution_count": 6,
   "id": "b11505e0-59db-4755-9fd9-833f177ed35b",
   "metadata": {},
   "outputs": [],
   "source": [
    "#define the initial values\n",
    "\n",
    "params = np.array([1,np.pi/4,1])"
   ]
  },
  {
   "cell_type": "code",
   "execution_count": 7,
   "id": "214c66d4-f188-437c-8cb8-8abf769b34cd",
   "metadata": {},
   "outputs": [
    {
     "data": {
      "text/plain": [
       "array([0.99292893, 0.79246923, 0.99      ])"
      ]
     },
     "execution_count": 7,
     "metadata": {},
     "output_type": "execute_result"
    }
   ],
   "source": [
    "#perform GD\n",
    "\n",
    "optimized_params = grad_desc(params,lr=.01, iters=1000)\n",
    "optimized_params"
   ]
  },
  {
   "cell_type": "markdown",
   "id": "6fcdbd81-e771-40c2-bc4f-6dde17b25c0b",
   "metadata": {},
   "source": [
    "### Problem 2:\n",
    "### Implementing Linear Programming to optimize player positions in a soccer game\n",
    "### to minimze defensive threats and maximise counteratacks chances"
   ]
  },
  {
   "cell_type": "code",
   "execution_count": 9,
   "id": "fdd1b4ea-d956-4953-b16a-6e12d2370b7e",
   "metadata": {},
   "outputs": [],
   "source": [
    "from scipy.optimize import linprog"
   ]
  },
  {
   "cell_type": "code",
   "execution_count": 14,
   "id": "b6c8f9c7-6f3a-4125-bd49-2509324c0db8",
   "metadata": {},
   "outputs": [],
   "source": [
    "def opt_pos(teammate_pos, opp_pos, ball_pos):\n",
    "    \"\"\"\n",
    "    so this function optimize the player positoon using linear programming (alread explained to you),\n",
    "    teammate_pos: array of shape representing the initial positions of teammates\n",
    "    opp_pos: array of shape represnrting opponents positions\n",
    "    ball_pos: array of shape returning position of the ball\n",
    "    so the opt_pos represents positions o team mates\n",
    "    \"\"\"\n",
    "    #defin the objective function\n",
    "    c= [-1,0] # basically maxmise the counter attack chances\n",
    "    #define the constraints\n",
    "    A = [[1,1], [1,-1]] # minimize the defensive threats\n",
    "    b = [0,0] \n",
    "    # bounds on the variables\n",
    "    bounds = [(0,None), (0,None)]\n",
    "    #Solve the linear program\n",
    "    res = linprog(c, A_ub=A, b_ub=b, bounds=bounds, method = 'simplex')\n",
    "    #extract the optimized positions\n",
    "    opt_posi = teammate_pos + res.x[0] - (ball_pos - teammate_pos)\n",
    "    return opt_pos"
   ]
  },
  {
   "cell_type": "code",
   "execution_count": 17,
   "id": "1f6745f8-36d4-4f0f-bf7d-c3a1bdb5756d",
   "metadata": {},
   "outputs": [
    {
     "name": "stdout",
     "output_type": "stream",
     "text": [
      "<function opt_pos at 0x000001A5FF55C8B0>\n"
     ]
    }
   ],
   "source": [
    "#define the initial positions\n",
    "\n",
    "teammate_pos = np.array([[1,1],[2,2],[3,3]])\n",
    "opp_pos = np.array([[4,4],[5,5],[6,6]])\n",
    "ball_pos = np.array([0,0])\n",
    "\n",
    "#optimize the positions\n",
    "\n",
    "opt_posi = opt_pos(teammate_pos, opp_pos, ball_pos)\n",
    "print(opt_posi)"
   ]
  },
  {
   "cell_type": "code",
   "execution_count": null,
   "id": "3c7a2d65-ff29-43b3-a8eb-d41467205b14",
   "metadata": {},
   "outputs": [],
   "source": []
  },
  {
   "cell_type": "code",
   "execution_count": null,
   "id": "fc115a10-c029-4f8c-921f-4e029fd25fd4",
   "metadata": {},
   "outputs": [],
   "source": []
  }
 ],
 "metadata": {
  "kernelspec": {
   "display_name": "Python 3",
   "language": "python",
   "name": "python3"
  },
  "language_info": {
   "codemirror_mode": {
    "name": "ipython",
    "version": 3
   },
   "file_extension": ".py",
   "mimetype": "text/x-python",
   "name": "python",
   "nbconvert_exporter": "python",
   "pygments_lexer": "ipython3",
   "version": "3.8.8"
  }
 },
 "nbformat": 4,
 "nbformat_minor": 5
}

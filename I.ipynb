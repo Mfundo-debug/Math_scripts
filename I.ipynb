{
 "cells": [
  {
   "attachments": {},
   "cell_type": "raw",
   "metadata": {},
   "source": [
    "---\n",
    "title: \"Part I Data Structures\"\n",
    "format: html\n",
    "author: \"Mfundo Monchwe\"\n",
    "---"
   ]
  },
  {
   "attachments": {},
   "cell_type": "markdown",
   "metadata": {},
   "source": [
    "#### A pythonic Card Deck\n"
   ]
  },
  {
   "cell_type": "code",
   "execution_count": 1,
   "metadata": {},
   "outputs": [],
   "source": [
    "import collections\n",
    "\n",
    "card = collections.namedtuple('card', ['rank', 'suit'])\n",
    "\n",
    "class FrenchDeck:\n",
    "    ranks = [str(n) for n in range(2, 11)] + list('JQKA')\n",
    "    suits = 'spades diamonds clubs hearts'.split()\n",
    "\n",
    "    def __init__(self):\n",
    "        self._cards = [card(rank, suit) for suit in self.suits\n",
    "                                        for rank in self.ranks]\n",
    "    def __len__(self):\n",
    "        return len(self._cards)\n",
    "    def __getitem__(self, position):\n",
    "        return self._cards[position]"
   ]
  },
  {
   "cell_type": "code",
   "execution_count": 2,
   "metadata": {},
   "outputs": [
    {
     "name": "stdout",
     "output_type": "stream",
     "text": [
      "card(rank='Q', suit='diamonds')\n"
     ]
    }
   ],
   "source": [
    "diamond_card = card('Q', 'diamonds')\n",
    "print(diamond_card)"
   ]
  },
  {
   "cell_type": "code",
   "execution_count": 3,
   "metadata": {},
   "outputs": [
    {
     "name": "stdout",
     "output_type": "stream",
     "text": [
      "card(rank='7', suit='diamonds')\n"
     ]
    }
   ],
   "source": [
    "diamond_7_card = card('7', 'diamonds')\n",
    "print(diamond_7_card)"
   ]
  },
  {
   "cell_type": "code",
   "execution_count": 4,
   "metadata": {},
   "outputs": [
    {
     "name": "stdout",
     "output_type": "stream",
     "text": [
      "52\n"
     ]
    }
   ],
   "source": [
    "deck = FrenchDeck()\n",
    "print(len(deck))"
   ]
  },
  {
   "cell_type": "code",
   "execution_count": 5,
   "metadata": {},
   "outputs": [
    {
     "data": {
      "text/plain": [
       "(card(rank='2', suit='spades'), card(rank='A', suit='hearts'))"
      ]
     },
     "execution_count": 5,
     "metadata": {},
     "output_type": "execute_result"
    }
   ],
   "source": [
    "deck[0],deck[-1]"
   ]
  },
  {
   "cell_type": "code",
   "execution_count": 6,
   "metadata": {},
   "outputs": [
    {
     "data": {
      "text/plain": [
       "(card(rank='10', suit='diamonds'),\n",
       " card(rank='K', suit='hearts'),\n",
       " card(rank='K', suit='clubs'))"
      ]
     },
     "execution_count": 6,
     "metadata": {},
     "output_type": "execute_result"
    }
   ],
   "source": [
    "from random import choice\n",
    "choice(deck), choice(deck), choice(deck)"
   ]
  },
  {
   "cell_type": "code",
   "execution_count": 7,
   "metadata": {},
   "outputs": [
    {
     "data": {
      "text/plain": [
       "([card(rank='2', suit='spades'),\n",
       "  card(rank='3', suit='spades'),\n",
       "  card(rank='4', suit='spades')],\n",
       " [card(rank='A', suit='spades'),\n",
       "  card(rank='A', suit='diamonds'),\n",
       "  card(rank='A', suit='clubs'),\n",
       "  card(rank='A', suit='hearts')])"
      ]
     },
     "execution_count": 7,
     "metadata": {},
     "output_type": "execute_result"
    }
   ],
   "source": [
    "#look for the top 3 and the last 12 cards skipping 13 cards at a time\n",
    "deck[:3], deck[12::13]"
   ]
  },
  {
   "cell_type": "code",
   "execution_count": 9,
   "metadata": {},
   "outputs": [
    {
     "name": "stdout",
     "output_type": "stream",
     "text": [
      "card(rank='2', suit='spades')\n",
      "card(rank='3', suit='spades')\n",
      "card(rank='4', suit='spades')\n",
      "card(rank='5', suit='spades')\n",
      "card(rank='6', suit='spades')\n",
      "card(rank='7', suit='spades')\n",
      "card(rank='8', suit='spades')\n",
      "card(rank='9', suit='spades')\n",
      "card(rank='10', suit='spades')\n",
      "card(rank='J', suit='spades')\n",
      "card(rank='Q', suit='spades')\n",
      "card(rank='K', suit='spades')\n",
      "card(rank='A', suit='spades')\n",
      "card(rank='2', suit='diamonds')\n",
      "card(rank='3', suit='diamonds')\n",
      "card(rank='4', suit='diamonds')\n",
      "card(rank='5', suit='diamonds')\n",
      "card(rank='6', suit='diamonds')\n",
      "card(rank='7', suit='diamonds')\n",
      "card(rank='8', suit='diamonds')\n",
      "card(rank='9', suit='diamonds')\n",
      "card(rank='10', suit='diamonds')\n",
      "card(rank='J', suit='diamonds')\n",
      "card(rank='Q', suit='diamonds')\n",
      "card(rank='K', suit='diamonds')\n",
      "card(rank='A', suit='diamonds')\n",
      "card(rank='2', suit='clubs')\n",
      "card(rank='3', suit='clubs')\n",
      "card(rank='4', suit='clubs')\n",
      "card(rank='5', suit='clubs')\n",
      "card(rank='6', suit='clubs')\n",
      "card(rank='7', suit='clubs')\n",
      "card(rank='8', suit='clubs')\n",
      "card(rank='9', suit='clubs')\n",
      "card(rank='10', suit='clubs')\n",
      "card(rank='J', suit='clubs')\n",
      "card(rank='Q', suit='clubs')\n",
      "card(rank='K', suit='clubs')\n",
      "card(rank='A', suit='clubs')\n",
      "card(rank='2', suit='hearts')\n",
      "card(rank='3', suit='hearts')\n",
      "card(rank='4', suit='hearts')\n",
      "card(rank='5', suit='hearts')\n",
      "card(rank='6', suit='hearts')\n",
      "card(rank='7', suit='hearts')\n",
      "card(rank='8', suit='hearts')\n",
      "card(rank='9', suit='hearts')\n",
      "card(rank='10', suit='hearts')\n",
      "card(rank='J', suit='hearts')\n",
      "card(rank='Q', suit='hearts')\n",
      "card(rank='K', suit='hearts')\n",
      "card(rank='A', suit='hearts')\n"
     ]
    }
   ],
   "source": [
    "for card in deck:\n",
    "    print(card)"
   ]
  },
  {
   "cell_type": "code",
   "execution_count": 8,
   "metadata": {},
   "outputs": [
    {
     "name": "stdout",
     "output_type": "stream",
     "text": [
      "card(rank='A', suit='hearts')\n",
      "card(rank='K', suit='hearts')\n",
      "card(rank='Q', suit='hearts')\n",
      "card(rank='J', suit='hearts')\n",
      "card(rank='10', suit='hearts')\n",
      "card(rank='9', suit='hearts')\n",
      "card(rank='8', suit='hearts')\n",
      "card(rank='7', suit='hearts')\n",
      "card(rank='6', suit='hearts')\n",
      "card(rank='5', suit='hearts')\n",
      "card(rank='4', suit='hearts')\n",
      "card(rank='3', suit='hearts')\n",
      "card(rank='2', suit='hearts')\n",
      "card(rank='A', suit='clubs')\n",
      "card(rank='K', suit='clubs')\n",
      "card(rank='Q', suit='clubs')\n",
      "card(rank='J', suit='clubs')\n",
      "card(rank='10', suit='clubs')\n",
      "card(rank='9', suit='clubs')\n",
      "card(rank='8', suit='clubs')\n",
      "card(rank='7', suit='clubs')\n",
      "card(rank='6', suit='clubs')\n",
      "card(rank='5', suit='clubs')\n",
      "card(rank='4', suit='clubs')\n",
      "card(rank='3', suit='clubs')\n",
      "card(rank='2', suit='clubs')\n",
      "card(rank='A', suit='diamonds')\n",
      "card(rank='K', suit='diamonds')\n",
      "card(rank='Q', suit='diamonds')\n",
      "card(rank='J', suit='diamonds')\n",
      "card(rank='10', suit='diamonds')\n",
      "card(rank='9', suit='diamonds')\n",
      "card(rank='8', suit='diamonds')\n",
      "card(rank='7', suit='diamonds')\n",
      "card(rank='6', suit='diamonds')\n",
      "card(rank='5', suit='diamonds')\n",
      "card(rank='4', suit='diamonds')\n",
      "card(rank='3', suit='diamonds')\n",
      "card(rank='2', suit='diamonds')\n",
      "card(rank='A', suit='spades')\n",
      "card(rank='K', suit='spades')\n",
      "card(rank='Q', suit='spades')\n",
      "card(rank='J', suit='spades')\n",
      "card(rank='10', suit='spades')\n",
      "card(rank='9', suit='spades')\n",
      "card(rank='8', suit='spades')\n",
      "card(rank='7', suit='spades')\n",
      "card(rank='6', suit='spades')\n",
      "card(rank='5', suit='spades')\n",
      "card(rank='4', suit='spades')\n",
      "card(rank='3', suit='spades')\n",
      "card(rank='2', suit='spades')\n"
     ]
    }
   ],
   "source": [
    "for Card in reversed(deck):\n",
    "    print(Card)"
   ]
  },
  {
   "cell_type": "code",
   "execution_count": 10,
   "metadata": {},
   "outputs": [
    {
     "data": {
      "text/plain": [
       "(True, False)"
      ]
     },
     "execution_count": 10,
     "metadata": {},
     "output_type": "execute_result"
    }
   ],
   "source": [
    "card('Q', 'hearts') in deck, card('7', 'beasts') in deck"
   ]
  },
  {
   "attachments": {},
   "cell_type": "markdown",
   "metadata": {},
   "source": [
    "#### sort ranking cards by rank and suit in the order of spades(highest), hearts, diamonds, clubs(lowest)"
   ]
  },
  {
   "cell_type": "code",
   "execution_count": 11,
   "metadata": {},
   "outputs": [],
   "source": [
    "suit_values = dict(spades=3, hearts=2, diamonds=1, clubs=0)\n",
    "\n",
    "def spades_high(card):\n",
    "    rank_value = FrenchDeck.ranks.index(card.rank)\n",
    "    return rank_value * len(suit_values) + suit_values[card.suit]"
   ]
  },
  {
   "cell_type": "code",
   "execution_count": 12,
   "metadata": {},
   "outputs": [
    {
     "data": {
      "text/plain": [
       "(0, 51)"
      ]
     },
     "execution_count": 12,
     "metadata": {},
     "output_type": "execute_result"
    }
   ],
   "source": [
    "spades_high(card('2', 'clubs')), spades_high(card('A', 'spades'))"
   ]
  },
  {
   "cell_type": "code",
   "execution_count": 13,
   "metadata": {},
   "outputs": [
    {
     "data": {
      "text/plain": [
       "(9, 48)"
      ]
     },
     "execution_count": 13,
     "metadata": {},
     "output_type": "execute_result"
    }
   ],
   "source": [
    "spades_high(card('4', 'diamonds')), spades_high(card('A', 'clubs'))"
   ]
  },
  {
   "attachments": {},
   "cell_type": "markdown",
   "metadata": {},
   "source": [
    "#### list our deck in order of increasing rank"
   ]
  },
  {
   "cell_type": "code",
   "execution_count": 14,
   "metadata": {},
   "outputs": [
    {
     "name": "stdout",
     "output_type": "stream",
     "text": [
      "card(rank='2', suit='clubs')\n",
      "card(rank='2', suit='diamonds')\n",
      "card(rank='2', suit='hearts')\n",
      "card(rank='2', suit='spades')\n",
      "card(rank='3', suit='clubs')\n",
      "card(rank='3', suit='diamonds')\n",
      "card(rank='3', suit='hearts')\n",
      "card(rank='3', suit='spades')\n",
      "card(rank='4', suit='clubs')\n",
      "card(rank='4', suit='diamonds')\n",
      "card(rank='4', suit='hearts')\n",
      "card(rank='4', suit='spades')\n",
      "card(rank='5', suit='clubs')\n",
      "card(rank='5', suit='diamonds')\n",
      "card(rank='5', suit='hearts')\n",
      "card(rank='5', suit='spades')\n",
      "card(rank='6', suit='clubs')\n",
      "card(rank='6', suit='diamonds')\n",
      "card(rank='6', suit='hearts')\n",
      "card(rank='6', suit='spades')\n",
      "card(rank='7', suit='clubs')\n",
      "card(rank='7', suit='diamonds')\n",
      "card(rank='7', suit='hearts')\n",
      "card(rank='7', suit='spades')\n",
      "card(rank='8', suit='clubs')\n",
      "card(rank='8', suit='diamonds')\n",
      "card(rank='8', suit='hearts')\n",
      "card(rank='8', suit='spades')\n",
      "card(rank='9', suit='clubs')\n",
      "card(rank='9', suit='diamonds')\n",
      "card(rank='9', suit='hearts')\n",
      "card(rank='9', suit='spades')\n",
      "card(rank='10', suit='clubs')\n",
      "card(rank='10', suit='diamonds')\n",
      "card(rank='10', suit='hearts')\n",
      "card(rank='10', suit='spades')\n",
      "card(rank='J', suit='clubs')\n",
      "card(rank='J', suit='diamonds')\n",
      "card(rank='J', suit='hearts')\n",
      "card(rank='J', suit='spades')\n",
      "card(rank='Q', suit='clubs')\n",
      "card(rank='Q', suit='diamonds')\n",
      "card(rank='Q', suit='hearts')\n",
      "card(rank='Q', suit='spades')\n",
      "card(rank='K', suit='clubs')\n",
      "card(rank='K', suit='diamonds')\n",
      "card(rank='K', suit='hearts')\n",
      "card(rank='K', suit='spades')\n",
      "card(rank='A', suit='clubs')\n",
      "card(rank='A', suit='diamonds')\n",
      "card(rank='A', suit='hearts')\n",
      "card(rank='A', suit='spades')\n"
     ]
    }
   ],
   "source": [
    "for card in sorted(deck, key=spades_high):\n",
    "    print(card)"
   ]
  },
  {
   "attachments": {},
   "cell_type": "markdown",
   "metadata": {},
   "source": [
    "#### Emulating numeric types"
   ]
  },
  {
   "cell_type": "code",
   "execution_count": 16,
   "metadata": {},
   "outputs": [
    {
     "name": "stdout",
     "output_type": "stream",
     "text": [
      "[5, 7, 9]\n"
     ]
    }
   ],
   "source": [
    "v1 = [1, 2, 3]\n",
    "v2 = [4, 5, 6]\n",
    "v1 + v2\n",
    "#add two vectors\n",
    "print([x + y for x, y in zip(v1, v2)])"
   ]
  },
  {
   "cell_type": "code",
   "execution_count": 17,
   "metadata": {},
   "outputs": [
    {
     "data": {
      "text/plain": [
       "[4, 5]"
      ]
     },
     "execution_count": 17,
     "metadata": {},
     "output_type": "execute_result"
    }
   ],
   "source": [
    "v_ =[2,4]\n",
    "v_1 =[2,1]\n",
    "[x+y for x,y in zip(v_,v_1)]"
   ]
  },
  {
   "cell_type": "code",
   "execution_count": 23,
   "metadata": {},
   "outputs": [
    {
     "data": {
      "text/plain": [
       "5.0"
      ]
     },
     "execution_count": 23,
     "metadata": {},
     "output_type": "execute_result"
    }
   ],
   "source": [
    "v = [3,4]\n",
    "#find absolute value of a vector v\n",
    "import math\n",
    "math.sqrt(sum([x * x for x in v]))\n"
   ]
  },
  {
   "cell_type": "code",
   "execution_count": 25,
   "metadata": {},
   "outputs": [
    {
     "data": {
      "text/plain": [
       "25"
      ]
     },
     "execution_count": 25,
     "metadata": {},
     "output_type": "execute_result"
    }
   ],
   "source": [
    "#dot product\n",
    "def dot(v, w):\n",
    "    return sum(v_i * w_i for v_i, w_i in zip(v, w))\n",
    "dot(v,v)\n"
   ]
  },
  {
   "cell_type": "code",
   "execution_count": 26,
   "metadata": {},
   "outputs": [
    {
     "data": {
      "text/plain": [
       "[9, 12]"
      ]
     },
     "execution_count": 26,
     "metadata": {},
     "output_type": "execute_result"
    }
   ],
   "source": [
    "#perform scalar multiplication\n",
    "def scalar_multiply(c, v):\n",
    "    return [c * v_i for v_i in v]\n",
    "scalar_multiply(3,v)"
   ]
  },
  {
   "cell_type": "code",
   "execution_count": 27,
   "metadata": {},
   "outputs": [
    {
     "data": {
      "text/plain": [
       "15.0"
      ]
     },
     "execution_count": 27,
     "metadata": {},
     "output_type": "execute_result"
    }
   ],
   "source": [
    "#multiply by 3\n",
    "math.sqrt(sum([x * x for x in scalar_multiply(3,v)]))"
   ]
  },
  {
   "cell_type": "code",
   "execution_count": 29,
   "metadata": {},
   "outputs": [],
   "source": [
    "# simple 2D dimensional vector class\n",
    "class Vector:\n",
    "    def __init__(self, x, y):\n",
    "        self.x = x\n",
    "        self.y = y\n",
    "    def __repr__(self):\n",
    "        return 'Vector(%r, %r)' % (self.x, self.y)\n",
    "    def __add__(self, other):\n",
    "        return Vector(self.x + other.x, self.y + other.y)\n",
    "    def __mul__(self, scalar):\n",
    "        return Vector(self.x * scalar, self.y * scalar)\n",
    "    def __abs__(self):\n",
    "        return math.sqrt(self.x ** 2 + self.y ** 2)\n",
    "    def __bool__(self):\n",
    "        return bool(abs(self))"
   ]
  },
  {
   "cell_type": "code",
   "execution_count": 30,
   "metadata": {},
   "outputs": [
    {
     "data": {
      "text/plain": [
       "Vector(3, 4)"
      ]
     },
     "execution_count": 30,
     "metadata": {},
     "output_type": "execute_result"
    }
   ],
   "source": [
    "# test the vector class\n",
    "v = Vector(3, 4)\n",
    "v\n"
   ]
  },
  {
   "cell_type": "code",
   "execution_count": 31,
   "metadata": {},
   "outputs": [
    {
     "data": {
      "text/plain": [
       "Vector(4, 5)"
      ]
     },
     "execution_count": 31,
     "metadata": {},
     "output_type": "execute_result"
    }
   ],
   "source": [
    "v1 = Vector(2, 1)\n",
    "v2 = Vector(2, 4)\n",
    "v1 + v2\n"
   ]
  },
  {
   "cell_type": "code",
   "execution_count": 32,
   "metadata": {},
   "outputs": [
    {
     "data": {
      "text/plain": [
       "5.0"
      ]
     },
     "execution_count": 32,
     "metadata": {},
     "output_type": "execute_result"
    }
   ],
   "source": [
    "v = Vector(3, 4)\n",
    "abs(v)\n"
   ]
  },
  {
   "cell_type": "code",
   "execution_count": 33,
   "metadata": {},
   "outputs": [
    {
     "data": {
      "text/plain": [
       "Vector(9, 12)"
      ]
     },
     "execution_count": 33,
     "metadata": {},
     "output_type": "execute_result"
    }
   ],
   "source": [
    "v * 3\n"
   ]
  },
  {
   "cell_type": "code",
   "execution_count": 34,
   "metadata": {},
   "outputs": [
    {
     "data": {
      "text/plain": [
       "15.0"
      ]
     },
     "execution_count": 34,
     "metadata": {},
     "output_type": "execute_result"
    }
   ],
   "source": [
    "abs(v * 3)"
   ]
  },
  {
   "attachments": {},
   "cell_type": "markdown",
   "metadata": {},
   "source": [
    "#### Chapter 2: An array of sequences"
   ]
  },
  {
   "attachments": {},
   "cell_type": "markdown",
   "metadata": {},
   "source": [
    "::: callout-note\n",
    "\n",
    "    1. List comprehensions and the basics of generator expressions\n",
    "    2. tuples as records versus using tupples as immutable lists\n",
    "    3. Sequence unpacking and sequence patterns\n",
    "    4. Reading from slices and why slices and range exclude the last item\n",
    "    5. Specialized sequence types, like arrays and queues \n",
    ":::"
   ]
  },
  {
   "attachments": {},
   "cell_type": "markdown",
   "metadata": {},
   "source": [
    "::: callout-tip\n",
    "* $\\textit{Container sequences}$ : list, tuple, and collections.deque can hold items of different types.\n",
    "* $\\textit{Flat sequences}$ : str, bytes, bytearray, memoryview, and array.array hold items of one type.\n",
    "\n",
    ":::"
   ]
  },
  {
   "cell_type": "code",
   "execution_count": 35,
   "metadata": {},
   "outputs": [
    {
     "data": {
      "text/plain": [
       "True"
      ]
     },
     "execution_count": 35,
     "metadata": {},
     "output_type": "execute_result"
    }
   ],
   "source": [
    "from collections import abc\n",
    "my_dict = {}\n",
    "isinstance(my_dict, abc.Mapping)\n",
    "issubclass(dict, abc.Mapping)"
   ]
  },
  {
   "cell_type": "code",
   "execution_count": 36,
   "metadata": {},
   "outputs": [
    {
     "data": {
      "text/plain": [
       "(True, True)"
      ]
     },
     "execution_count": 36,
     "metadata": {},
     "output_type": "execute_result"
    }
   ],
   "source": [
    "issubclass(tuple,abc.Sequence), issubclass(list,abc.MutableSequence)"
   ]
  },
  {
   "attachments": {},
   "cell_type": "markdown",
   "metadata": {},
   "source": [
    "#### List comprehensions and generator expressions"
   ]
  },
  {
   "cell_type": "code",
   "execution_count": 37,
   "metadata": {},
   "outputs": [
    {
     "data": {
      "text/plain": [
       "{'this': [0], 'is': [5], 'a': [8], 'test': [10]}"
      ]
     },
     "execution_count": 37,
     "metadata": {},
     "output_type": "execute_result"
    }
   ],
   "source": [
    "#count the number of times a word appears in a document\n",
    "import re\n",
    "WORD_RE = re.compile('\\w+')\n",
    "def word_count(doc):\n",
    "    index = {}\n",
    "    for match in WORD_RE.finditer(doc):\n",
    "        word = match.group()\n",
    "        index.setdefault(word, []).append(match.start())\n",
    "    return index\n",
    "word_count('this is a test')"
   ]
  },
  {
   "cell_type": "code",
   "execution_count": 39,
   "metadata": {},
   "outputs": [
    {
     "name": "stdout",
     "output_type": "stream",
     "text": [
      "U+0031\t  1   \tre_dig\tisdig\tisnum\t 1.00\tDIGIT ONE\n",
      "U+00bc\t  ¼   \t-\t-\tisnum\t 0.25\tVULGAR FRACTION ONE QUARTER\n",
      "U+00b2\t  ²   \t-\tisdig\tisnum\t 2.00\tSUPERSCRIPT TWO\n",
      "U+0969\t  ३   \tre_dig\tisdig\tisnum\t 3.00\tDEVANAGARI DIGIT THREE\n",
      "U+136b\t  ፫   \t-\tisdig\tisnum\t 3.00\tETHIOPIC DIGIT THREE\n",
      "U+216b\t  Ⅻ   \t-\t-\tisnum\t12.00\tROMAN NUMERAL TWELVE\n",
      "U+2466\t  ⑦   \t-\tisdig\tisnum\t 7.00\tCIRCLED DIGIT SEVEN\n",
      "U+2480\t  ⒀   \t-\t-\tisnum\t13.00\tPARENTHESIZED NUMBER THIRTEEN\n",
      "U+3285\t  ㊅   \t-\t-\tisnum\t 6.00\tCIRCLED IDEOGRAPH SIX\n"
     ]
    }
   ],
   "source": [
    "#build a list of unique code points from a string\n",
    "import unicodedata\n",
    "import re\n",
    "re_digit = re.compile(r'\\d')\n",
    "sample = '1\\xbc\\xb2\\u0969\\u136b\\u216b\\u2466\\u2480\\u3285'\n",
    "for char in sample:\n",
    "    print('U+%04x' % ord(char),\n",
    "          char.center(6),\n",
    "          're_dig' if re_digit.match(char) else '-',\n",
    "          'isdig' if char.isdigit() else '-',\n",
    "          'isnum' if char.isnumeric() else '-',\n",
    "          format(unicodedata.numeric(char), '5.2f'),\n",
    "          unicodedata.name(char),\n",
    "          sep='\\t')\n"
   ]
  },
  {
   "cell_type": "code",
   "execution_count": 44,
   "metadata": {},
   "outputs": [
    {
     "data": {
      "text/plain": [
       "[' 1.00', ' 3.00']"
      ]
     },
     "execution_count": 44,
     "metadata": {},
     "output_type": "execute_result"
    }
   ],
   "source": [
    "#build a list of unique code points from a string, using a listcomp\n",
    "re_digit = re.compile(r'\\d')\n",
    "sample = '1\\xbc\\xb2\\u0969\\u136b\\u216b\\u2466\\u2480\\u3285'\n",
    "unicodedata.name(char)\n",
    "[format(unicodedata.numeric(char), '5.2f') for char in sample]\n",
    "[format(unicodedata.numeric(char), '5.2f') for char in sample if re_digit.match(char)]\n",
    "\n"
   ]
  },
  {
   "cell_type": "code",
   "execution_count": 40,
   "metadata": {},
   "outputs": [
    {
     "data": {
      "text/plain": [
       "[36, 162, 163, 165, 8364, 164]"
      ]
     },
     "execution_count": 40,
     "metadata": {},
     "output_type": "execute_result"
    }
   ],
   "source": [
    "symbols = '$¢£¥€¤'\n",
    "codes = [ord(symbol) for symbol in symbols]\n",
    "codes"
   ]
  },
  {
   "attachments": {},
   "cell_type": "markdown",
   "metadata": {},
   "source": [
    "#### Local Scope within Comprehensions and Generator Expressions"
   ]
  },
  {
   "cell_type": "code",
   "execution_count": 45,
   "metadata": {},
   "outputs": [
    {
     "data": {
      "text/plain": [
       "[65, 66, 67]"
      ]
     },
     "execution_count": 45,
     "metadata": {},
     "output_type": "execute_result"
    }
   ],
   "source": [
    "x = 'ABC'\n",
    "dummy = [ord(x) for x in x]\n",
    "dummy"
   ]
  },
  {
   "attachments": {},
   "cell_type": "markdown",
   "metadata": {},
   "source": [
    "::: callout-caution\n",
    "* The iteration variables defined within the expression are local to the expression.\n",
    "* The variables in a generator expression are also local to the expression, but the generator function itself has its own local scope.\n",
    "* variables assigned with the \"Walrus operator\":= remain visible, with their current values, after the comprehension or generator expression has been evaluated.\n",
    "\n",
    ":::"
   ]
  },
  {
   "cell_type": "code",
   "execution_count": 46,
   "metadata": {},
   "outputs": [
    {
     "data": {
      "text/plain": [
       "(67, [65, 66, 67], 'ABC')"
      ]
     },
     "execution_count": 46,
     "metadata": {},
     "output_type": "execute_result"
    }
   ],
   "source": [
    "dummy = [last := ord(x) for x in x]\n",
    "last, dummy, x"
   ]
  },
  {
   "attachments": {},
   "cell_type": "markdown",
   "metadata": {},
   "source": [
    "#### Listcomps Versus map and filter\n",
    "\n",
    "* Listcomps are clearer than the map and filter built-in functions because they don’t require lambda expressions, and they are more readable.\n",
    "* Listcomps allow you to easily skip items from the input list, a behavior that map does not support without help from filter.\n",
    "* Dictionaries and sets have their own equivalents of listcomps, called dictcomps and setcomps, respectively.\n"
   ]
  },
  {
   "cell_type": "code",
   "execution_count": 47,
   "metadata": {},
   "outputs": [
    {
     "data": {
      "text/plain": [
       "[162, 163, 165, 8364, 164]"
      ]
     },
     "execution_count": 47,
     "metadata": {},
     "output_type": "execute_result"
    }
   ],
   "source": [
    "#build a list of unique code points from a string, using listcomp and map/filter composition\n",
    "symbols = '$¢£¥€¤'\n",
    "beyond_ascii = [ord(s) for s in symbols if ord(s) > 127]\n",
    "beyond_ascii"
   ]
  },
  {
   "cell_type": "code",
   "execution_count": 48,
   "metadata": {},
   "outputs": [
    {
     "data": {
      "text/plain": [
       "[162, 163, 165, 8364, 164]"
      ]
     },
     "execution_count": 48,
     "metadata": {},
     "output_type": "execute_result"
    }
   ],
   "source": [
    "beyond_ascii = list(filter(lambda c: c > 127, map(ord, symbols)))\n",
    "beyond_ascii"
   ]
  },
  {
   "attachments": {},
   "cell_type": "markdown",
   "metadata": {},
   "source": [
    "::: callout-note\n",
    "##### Testing speed of listcomps versus map and filter\n",
    ":::"
   ]
  },
  {
   "cell_type": "code",
   "execution_count": 49,
   "metadata": {},
   "outputs": [
    {
     "name": "stdout",
     "output_type": "stream",
     "text": [
      "listcomp        : 0.008 0.011 0.008 0.005 0.006\n",
      "listcomp + func : 0.012 0.008 0.007 0.008 0.008\n",
      "filter + lambda : 0.006 0.008 0.008 0.007 0.007\n",
      "filter + func   : 0.007 0.005 0.009 0.007 0.010\n"
     ]
    }
   ],
   "source": [
    "import timeit\n",
    "\n",
    "TIMES = 10000\n",
    "\n",
    "SETUP = \"\"\"\n",
    "symbols = '$¢£¥€¤'\n",
    "def non_ascii(c):\n",
    "    return c > 127\n",
    "\"\"\"\n",
    "\n",
    "def clock(label, cmd):\n",
    "    res = timeit.repeat(cmd, setup=SETUP, number=TIMES)\n",
    "    print(label, *(f'{x:.3f}' for x in res))\n",
    "\n",
    "clock('listcomp        :', '[ord(s) for s in symbols if ord(s) > 127]')\n",
    "clock('listcomp + func :', '[ord(s) for s in symbols if non_ascii(ord(s))]')\n",
    "clock('filter + lambda :', 'list(filter(lambda c: c > 127, map(ord, symbols)))')\n",
    "clock('filter + func   :', 'list(filter(non_ascii, map(ord, symbols)))')"
   ]
  },
  {
   "attachments": {},
   "cell_type": "markdown",
   "metadata": {},
   "source": [
    "* the above results indicate a strong competition between listcomp and {map+filter} in terms of speed.\n"
   ]
  },
  {
   "attachments": {},
   "cell_type": "markdown",
   "metadata": {},
   "source": [
    "### Catersian Products\n",
    "* A list comprehension can generate a list of tuples by nesting a tuple comprehension inside a list comprehension, or vice versa.\n",
    "* The Cartesian product of two or more iterables is a list containing tuples built from all items that appear in all the input iterables.\n"
   ]
  },
  {
   "cell_type": "code",
   "execution_count": 52,
   "metadata": {},
   "outputs": [
    {
     "data": {
      "text/plain": [
       "([('black', 'S'),\n",
       "  ('black', 'M'),\n",
       "  ('black', 'L'),\n",
       "  ('white', 'S'),\n",
       "  ('white', 'M'),\n",
       "  ('white', 'L')],\n",
       " 6,\n",
       " 6)"
      ]
     },
     "execution_count": 52,
     "metadata": {},
     "output_type": "execute_result"
    }
   ],
   "source": [
    "# catersian product using list comprehension\n",
    "colors = ['black', 'white']\n",
    "sizes = ['S', 'M', 'L']\n",
    "tshirts = [(color, size) for color in colors for size in sizes]\n",
    "tshirts, len(tshirts), len(colors) * len(sizes)"
   ]
  },
  {
   "attachments": {},
   "cell_type": "markdown",
   "metadata": {},
   "source": [
    "* this generates a list of tuples arranged by color, then size"
   ]
  },
  {
   "cell_type": "code",
   "execution_count": 53,
   "metadata": {},
   "outputs": [
    {
     "data": {
      "text/plain": [
       "[('black', 'S'),\n",
       " ('white', 'S'),\n",
       " ('black', 'M'),\n",
       " ('white', 'M'),\n",
       " ('black', 'L'),\n",
       " ('white', 'L')]"
      ]
     },
     "execution_count": 53,
     "metadata": {},
     "output_type": "execute_result"
    }
   ],
   "source": [
    "[(color, size) for size in sizes for color in colors]"
   ]
  },
  {
   "attachments": {},
   "cell_type": "markdown",
   "metadata": {},
   "source": [
    "* the same result can be achieved by nesting a tuple comprehension inside a list comprehension\n"
   ]
  },
  {
   "attachments": {},
   "cell_type": "markdown",
   "metadata": {},
   "source": [
    "#### Generator Expressions\n",
    "* Generator expressions save memory because they yield items one by one using the iterator protocol instead of building a whole list just to feed another constructor.\n",
    "* Generator expressions can be used instead of listcomps in many situations.\n",
    "* Generator expressions are more compact than equivalent generator functions."
   ]
  },
  {
   "cell_type": "code",
   "execution_count": 1,
   "metadata": {},
   "outputs": [
    {
     "data": {
      "text/plain": [
       "(36, 162, 163, 165, 8364, 164)"
      ]
     },
     "execution_count": 1,
     "metadata": {},
     "output_type": "execute_result"
    }
   ],
   "source": [
    "#initialize a tuple and an array from a generator expression\n",
    "symbols = '$¢£¥€¤'\n",
    "tuple(ord(symbol) for symbol in symbols)"
   ]
  },
  {
   "cell_type": "code",
   "execution_count": 2,
   "metadata": {},
   "outputs": [
    {
     "data": {
      "text/plain": [
       "array('I', [36, 162, 163, 165, 8364, 164])"
      ]
     },
     "execution_count": 2,
     "metadata": {},
     "output_type": "execute_result"
    }
   ],
   "source": [
    "import array\n",
    "array.array('I', (ord(symbol) for symbol in symbols))"
   ]
  },
  {
   "cell_type": "code",
   "execution_count": 3,
   "metadata": {},
   "outputs": [
    {
     "name": "stdout",
     "output_type": "stream",
     "text": [
      "black S\n",
      "black M\n",
      "black L\n",
      "white S\n",
      "white M\n",
      "white L\n"
     ]
    }
   ],
   "source": [
    "# cartesian product in a generator expression\n",
    "colors = ['black', 'white']\n",
    "sizes = ['S', 'M', 'L']\n",
    "for tshirt in ('%s %s' % (c, s) for c in colors for s in sizes):\n",
    "    print(tshirt)\n",
    "    "
   ]
  },
  {
   "attachments": {},
   "cell_type": "markdown",
   "metadata": {},
   "source": [
    "* Generator expressions share the same syntax with listcomps, but are enclosed in parentheses rather than brackets.\n",
    "* The generator expression yields items one by one; a list with all six T-shirt combinations is never produced in this example."
   ]
  },
  {
   "attachments": {},
   "cell_type": "markdown",
   "metadata": {},
   "source": [
    "#### Tuples Are Not Just Immutable Lists\n",
    "* Tuples do double duty: they can be used as immutable lists and also as records with no field names.\n",
    "* Tuples hold records: each item in the tuple holds the data for one field and the position of the item gives its meaning.\n",
    "* Tuples can be used as immutable lists with arbitrary objects.\n",
    "* Tuples are useful for representing records that contain no mutable fields (such as the last_modified attribute in the FrenchDeck example).\n",
    "* If you think of a tuple just as an immutable list, the quantity and the order of the items may or may not be important, depending on the context. But when using a tuple as data record, the quantity and the order of the fields is essential."
   ]
  },
  {
   "attachments": {},
   "cell_type": "markdown",
   "metadata": {},
   "source": [
    "#### Tuples as Records\n",
    "* Tuples hold a record: each item in the tuple holds the data for one field and the position of the item gives its meaning.\n",
    "* Accessing the elements in a tuple by position is cumbersome and always has been.\n",
    "* Unpacking works with any iterable object. The only requirement is that the iterable yields exactly one item per variable in the receiving tuple, unless you use a star (*) to capture excess items, as we’ll see later.\n"
   ]
  },
  {
   "cell_type": "code",
   "execution_count": 4,
   "metadata": {},
   "outputs": [
    {
     "name": "stdout",
     "output_type": "stream",
     "text": [
      "BRA/CE342567\n",
      "ESP/XDA205856\n",
      "USA/31195855\n"
     ]
    }
   ],
   "source": [
    "lax_coordinates = (33.9425, -118.408056)\n",
    "city, year, pop, chg, area = ('Tokyo', 2003, 32450, 0.66, 8014)\n",
    "traveler_ids = [('USA', '31195855'), ('BRA', 'CE342567'),('ESP', 'XDA205856')]\n",
    "for passport in sorted(traveler_ids):\n",
    "    print('%s/%s' % passport)"
   ]
  },
  {
   "cell_type": "code",
   "execution_count": 11,
   "metadata": {},
   "outputs": [
    {
     "name": "stdout",
     "output_type": "stream",
     "text": [
      "USA\n",
      "BRA\n",
      "ESP\n"
     ]
    },
    {
     "data": {
      "text/plain": [
       "['USA', 'BRA', 'ESP']"
      ]
     },
     "execution_count": 11,
     "metadata": {},
     "output_type": "execute_result"
    }
   ],
   "source": [
    "for country, _ in traveler_ids:\n",
    "    print(country)\n",
    "#use listcomp\n",
    "[country for country, _ in traveler_ids]"
   ]
  },
  {
   "attachments": {},
   "cell_type": "markdown",
   "metadata": {},
   "source": [
    "#### Tuples as Immutable Lists\n",
    "* Tuples differ from lists mostly in their immutability—tuples cannot be modified in place.\n",
    "* Tuples are also more memory efficient than lists.\n",
    "* Tuples can be used as immutable lists with arbitrary objects."
   ]
  },
  {
   "cell_type": "code",
   "execution_count": 12,
   "metadata": {},
   "outputs": [
    {
     "data": {
      "text/plain": [
       "((10, 'alpha', [1, 2]), (20, 'beta', [3, 4]), (30, 'gamma', [5, 6]))"
      ]
     },
     "execution_count": 12,
     "metadata": {},
     "output_type": "execute_result"
    }
   ],
   "source": [
    "a =(10,'alpha',[1,2])\n",
    "b = (20,'beta',[3,4])\n",
    "c = (30,'gamma',[5,6])\n",
    "a,b,c"
   ]
  },
  {
   "cell_type": "code",
   "execution_count": 13,
   "metadata": {},
   "outputs": [
    {
     "data": {
      "text/plain": [
       "(False, True, False)"
      ]
     },
     "execution_count": 13,
     "metadata": {},
     "output_type": "execute_result"
    }
   ],
   "source": [
    "a==b, a<b, a>b"
   ]
  },
  {
   "attachments": {},
   "cell_type": "markdown",
   "metadata": {},
   "source": [
    "* checking if a tuple (or any object) has a fixed value of hash() is a way to signal that it is immutable."
   ]
  },
  {
   "cell_type": "code",
   "execution_count": 14,
   "metadata": {},
   "outputs": [],
   "source": [
    "def fixed(o):\n",
    "    try:\n",
    "        hash(o)\n",
    "    except TypeError:\n",
    "        return False\n",
    "    return True\n"
   ]
  },
  {
   "cell_type": "code",
   "execution_count": 15,
   "metadata": {},
   "outputs": [
    {
     "data": {
      "text/plain": [
       "False"
      ]
     },
     "execution_count": 15,
     "metadata": {},
     "output_type": "execute_result"
    }
   ],
   "source": [
    "tf = (10,'alpha',[1,2])\n",
    "fixed(tf)"
   ]
  },
  {
   "cell_type": "code",
   "execution_count": 16,
   "metadata": {},
   "outputs": [
    {
     "data": {
      "text/plain": [
       "False"
      ]
     },
     "execution_count": 16,
     "metadata": {},
     "output_type": "execute_result"
    }
   ],
   "source": [
    "tm = (10,'alpha',[1,2])\n",
    "fixed(tm)"
   ]
  },
  {
   "cell_type": "code",
   "execution_count": null,
   "metadata": {},
   "outputs": [],
   "source": []
  }
 ],
 "metadata": {
  "kernelspec": {
   "display_name": "Python 3",
   "language": "python",
   "name": "python3"
  },
  "language_info": {
   "codemirror_mode": {
    "name": "ipython",
    "version": 3
   },
   "file_extension": ".py",
   "mimetype": "text/x-python",
   "name": "python",
   "nbconvert_exporter": "python",
   "pygments_lexer": "ipython3",
   "version": "3.11.4"
  },
  "orig_nbformat": 4
 },
 "nbformat": 4,
 "nbformat_minor": 2
}
